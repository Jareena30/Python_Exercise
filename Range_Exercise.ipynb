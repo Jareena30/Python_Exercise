{
  "nbformat": 4,
  "nbformat_minor": 0,
  "metadata": {
    "colab": {
      "provenance": []
    },
    "kernelspec": {
      "name": "python3",
      "display_name": "Python 3"
    },
    "language_info": {
      "name": "python"
    }
  },
  "cells": [
    {
      "cell_type": "code",
      "execution_count": 2,
      "metadata": {
        "colab": {
          "base_uri": "https://localhost:8080/"
        },
        "id": "hEV6zEzr7QkE",
        "outputId": "d7eb077d-86ad-40dd-8ad8-c0568970f3d1"
      },
      "outputs": [
        {
          "output_type": "stream",
          "name": "stdout",
          "text": [
            "Enter start:1\n",
            "Enter end :10\n",
            "1\n",
            "2\n",
            "3\n",
            "4\n",
            "5\n",
            "6\n",
            "7\n",
            "8\n",
            "9\n",
            "10\n"
          ]
        }
      ],
      "source": [
        "# Write a Python program to iterate over a range of numbers and print them.\n",
        "start = int(input('Enter start:'))\n",
        "end = int(input('Enter end :'))\n",
        "\n",
        "for number in range(start, end + 1):        # Iterate over the range\n",
        "    print(number)\n"
      ]
    },
    {
      "cell_type": "code",
      "source": [
        "# Write a Python program to find the sum of all numbers in a range.\n",
        "start = int(input('Enter start:'))\n",
        "end = int(input('Enter end :'))\n",
        "\n",
        "sum = 0\n",
        "for number in range(start, end + 1):        # Iterate over the range\n",
        "    sum += number    #sum of all elements\n",
        "    print(sum)\n"
      ],
      "metadata": {
        "colab": {
          "base_uri": "https://localhost:8080/"
        },
        "id": "R2Lqu_oP7UNk",
        "outputId": "133651a4-81ca-4bc6-b488-80c2bf163b2f"
      },
      "execution_count": 7,
      "outputs": [
        {
          "output_type": "stream",
          "name": "stdout",
          "text": [
            "Enter start:1\n",
            "Enter end :5\n",
            "1\n",
            "3\n",
            "6\n",
            "10\n",
            "15\n"
          ]
        }
      ]
    },
    {
      "cell_type": "code",
      "source": [
        "# Write a Python program to print all even numbers in a given range.\n",
        "start = int(input('Enter start:'))\n",
        "end = int(input('Enter end :'))\n",
        "\n",
        "for number in range(start, end + 1):        # Iterate over the range\n",
        "    if number % 2 == 0 :     # even no\n",
        "      print(number)\n"
      ],
      "metadata": {
        "colab": {
          "base_uri": "https://localhost:8080/"
        },
        "id": "dCB94MjB7Us2",
        "outputId": "c296d63f-d64b-4871-a1e9-29a3a2532a08"
      },
      "execution_count": 10,
      "outputs": [
        {
          "output_type": "stream",
          "name": "stdout",
          "text": [
            "Enter start:1\n",
            "Enter end :5\n",
            "2\n",
            "4\n"
          ]
        }
      ]
    },
    {
      "cell_type": "code",
      "source": [
        "# Write a Python program to print all odd numbers in a given range.\n",
        "start = int(input('Enter start:'))\n",
        "end = int(input('Enter end :'))\n",
        "\n",
        "for number in range(start, end + 1):        # Iterate over the range\n",
        "    if number % 2 == 1 :     # odd no\n",
        "      print(number)"
      ],
      "metadata": {
        "colab": {
          "base_uri": "https://localhost:8080/"
        },
        "id": "ZQroCS8s7U3f",
        "outputId": "7d16ec41-4455-456a-d9a5-ebf9dd954a7c"
      },
      "execution_count": 11,
      "outputs": [
        {
          "output_type": "stream",
          "name": "stdout",
          "text": [
            "Enter start:1\n",
            "Enter end :6\n",
            "1\n",
            "3\n",
            "5\n"
          ]
        }
      ]
    },
    {
      "cell_type": "code",
      "source": [
        "# Write a Python program to find the average of all numbers in a range.\n",
        "start = int(input('Enter start:'))\n",
        "end = int(input('Enter end :'))\n",
        "\n",
        "sum = 0\n",
        "count = 0\n",
        "for number in range(start, end + 1):        # Iterate over the range\n",
        "    sum += number    #sum of all elements\n",
        "    count+=1     # counts no of elements\n",
        "\n",
        "if count > 0:\n",
        "    average = sum / count     # average\n",
        "\n",
        "    print(\"The average of numbers in the range is:\", average)\n",
        "else:\n",
        "    print(\"The range is empty, so there's no average.\")\n",
        ""
      ],
      "metadata": {
        "colab": {
          "base_uri": "https://localhost:8080/"
        },
        "id": "jVJpR_1M7VBG",
        "outputId": "56aa99e8-81f8-4d94-8d19-cb29736d01b8"
      },
      "execution_count": 13,
      "outputs": [
        {
          "output_type": "stream",
          "name": "stdout",
          "text": [
            "Enter start:2\n",
            "Enter end :3\n",
            "The average of numbers in the range is: 2.5\n"
          ]
        }
      ]
    },
    {
      "cell_type": "code",
      "source": [
        "# Write a Python program to check if a number is present in a given range.\n",
        "start = int(input('Enter start:'))\n",
        "end = int(input('Enter end :'))\n",
        "n = int(input('Enter no to check:'))\n",
        "\n",
        "for number in range(start, end + 1):        # Iterate over the range\n",
        "    if number == n :     # checks whether no is present\n",
        "      print('Number is present')\n",
        ""
      ],
      "metadata": {
        "colab": {
          "base_uri": "https://localhost:8080/"
        },
        "id": "rfCC1eja7VKF",
        "outputId": "9f57f871-eecb-44a7-87a9-2bf09c74230c"
      },
      "execution_count": 18,
      "outputs": [
        {
          "name": "stdout",
          "output_type": "stream",
          "text": [
            "Enter start:1\n",
            "Enter end :5\n",
            "Enter no to check:6\n"
          ]
        }
      ]
    },
    {
      "cell_type": "code",
      "source": [
        "# Write a Python program to reverse a range of numbers and print them.\n",
        "start = int(input('Enter start:'))\n",
        "end = int(input('Enter end :'))\n",
        "\n",
        "for number in range(start, end-1, -1):        # Iterate over the range\n",
        "      print(number)\n",
        ""
      ],
      "metadata": {
        "colab": {
          "base_uri": "https://localhost:8080/"
        },
        "id": "G8kqhoPS7VSY",
        "outputId": "47950097-3314-4fb7-9e6d-9be9c4de1702"
      },
      "execution_count": 23,
      "outputs": [
        {
          "output_type": "stream",
          "name": "stdout",
          "text": [
            "Enter start:10\n",
            "Enter end :1\n",
            "10\n",
            "9\n",
            "8\n",
            "7\n",
            "6\n",
            "5\n",
            "4\n",
            "3\n",
            "2\n",
            "1\n"
          ]
        }
      ]
    },
    {
      "cell_type": "code",
      "source": [
        "# Write a Python program to find the product of all numbers in a range.\n",
        "start = int(input('Enter start:'))\n",
        "end = int(input('Enter end :'))\n",
        "\n",
        "prod = 1\n",
        "for number in range(start, end + 1):        # Iterate over the range\n",
        "    prod *= number    #product of all elements\n",
        "    print(prod)"
      ],
      "metadata": {
        "colab": {
          "base_uri": "https://localhost:8080/"
        },
        "id": "ssU2HE0A7Vbh",
        "outputId": "76ebaf8a-b7a7-4413-a18c-928de40f5176"
      },
      "execution_count": 27,
      "outputs": [
        {
          "output_type": "stream",
          "name": "stdout",
          "text": [
            "Enter start:1\n",
            "Enter end :3\n",
            "1\n",
            "2\n",
            "6\n"
          ]
        }
      ]
    },
    {
      "cell_type": "code",
      "source": [
        "# Write a Python program to print the squares of all numbers in a range.\n",
        "start = int(input('Enter start:'))\n",
        "end = int(input('Enter end :'))\n",
        "\n",
        "for number in range(start, end + 1):        # Iterate over the range\n",
        "    sqr = number ** 2    #square of no\n",
        "    print(f'Square of {number} :', sqr)\n"
      ],
      "metadata": {
        "colab": {
          "base_uri": "https://localhost:8080/"
        },
        "id": "776_1Ahb7VlD",
        "outputId": "bec9702a-0c85-447b-edce-e27cdaca5b67"
      },
      "execution_count": 29,
      "outputs": [
        {
          "output_type": "stream",
          "name": "stdout",
          "text": [
            "Enter start:1\n",
            "Enter end :5\n",
            "Square of 1 : 1\n",
            "Square of 2 : 4\n",
            "Square of 3 : 9\n",
            "Square of 4 : 16\n",
            "Square of 5 : 25\n"
          ]
        }
      ]
    },
    {
      "cell_type": "code",
      "source": [
        "# Write a Python program to print the cube of all numbers in a range.\n",
        "start = int(input('Enter start:'))\n",
        "end = int(input('Enter end :'))\n",
        "\n",
        "for number in range(start, end + 1):        # Iterate over the range\n",
        "    cub = number ** 3    # cube of no\n",
        "    print(f'Cube of {number} :', cub)"
      ],
      "metadata": {
        "colab": {
          "base_uri": "https://localhost:8080/"
        },
        "id": "3-gg5pHk7Vu3",
        "outputId": "e683e3c9-bd36-4695-edc6-91464cedc69a"
      },
      "execution_count": 30,
      "outputs": [
        {
          "output_type": "stream",
          "name": "stdout",
          "text": [
            "Enter start:1\n",
            "Enter end :5\n",
            "Cube of 1 : 1\n",
            "Cube of 2 : 8\n",
            "Cube of 3 : 27\n",
            "Cube of 4 : 64\n",
            "Cube of 5 : 125\n"
          ]
        }
      ]
    }
  ]
}