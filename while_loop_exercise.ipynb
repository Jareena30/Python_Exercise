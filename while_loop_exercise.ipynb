{
  "nbformat": 4,
  "nbformat_minor": 0,
  "metadata": {
    "colab": {
      "provenance": []
    },
    "kernelspec": {
      "name": "python3",
      "display_name": "Python 3"
    },
    "language_info": {
      "name": "python"
    }
  },
  "cells": [
    {
      "cell_type": "code",
      "source": [
        "# Write a Python program to print the numbers from 1 to 10 using a while loop.\n",
        "num =1\n",
        "while num < 11  :\n",
        " print (num)\n",
        " num = num+1"
      ],
      "metadata": {
        "colab": {
          "base_uri": "https://localhost:8080/"
        },
        "id": "DHLWy5Ov8bdE",
        "outputId": "067ef3a2-cc2c-4e41-9cbf-47a819448fc3"
      },
      "execution_count": null,
      "outputs": [
        {
          "output_type": "stream",
          "name": "stdout",
          "text": [
            "1\n",
            "2\n",
            "3\n",
            "4\n",
            "5\n",
            "6\n",
            "7\n",
            "8\n",
            "9\n",
            "10\n"
          ]
        }
      ]
    },
    {
      "cell_type": "code",
      "execution_count": null,
      "metadata": {
        "id": "A6qIz5jO8HE0",
        "colab": {
          "base_uri": "https://localhost:8080/"
        },
        "outputId": "1b7ed83c-500f-429d-be5d-707abc8cb5bc"
      },
      "outputs": [
        {
          "output_type": "stream",
          "name": "stdout",
          "text": [
            "sum : 5050\n"
          ]
        }
      ],
      "source": [
        "# Write a Python program to calculate the sum of all numbers from 1 to 100 using a while loop.\n",
        "num =1\n",
        "sum =0\n",
        "while num <= 100  :\n",
        "  sum = sum +num\n",
        "  num = num+1\n",
        "print ('sum :', sum)\n"
      ]
    },
    {
      "cell_type": "code",
      "source": [
        "# Write a Python program to find the factorial of a number using a while loop.\n",
        "num = int(input('Enter no :'))\n",
        "fact =1\n",
        "while num > 0 :\n",
        " fact = fact * num\n",
        " num = num-1\n",
        "print (f'Factorial of {num} is :', fact)"
      ],
      "metadata": {
        "id": "bKEo5D8o8eXA",
        "colab": {
          "base_uri": "https://localhost:8080/"
        },
        "outputId": "d403585d-27df-4401-f430-180c829bc9d8"
      },
      "execution_count": 19,
      "outputs": [
        {
          "output_type": "stream",
          "name": "stdout",
          "text": [
            "Enter no :5\n",
            "Factorial of 0 is : 120\n"
          ]
        }
      ]
    },
    {
      "cell_type": "code",
      "source": [
        "# Write a Python program to print all the even numbers between 1 and 50 using a while loop.\n",
        "num =2\n",
        "while num <= 50  :\n",
        "  print (num)\n",
        "  num = num+2"
      ],
      "metadata": {
        "id": "q7X7OO678eZ9",
        "colab": {
          "base_uri": "https://localhost:8080/"
        },
        "outputId": "fb0e3e0f-af38-45e3-f20f-940c66c3c071"
      },
      "execution_count": 22,
      "outputs": [
        {
          "output_type": "stream",
          "name": "stdout",
          "text": [
            "2\n",
            "4\n",
            "6\n",
            "8\n",
            "10\n",
            "12\n",
            "14\n",
            "16\n",
            "18\n",
            "20\n",
            "22\n",
            "24\n",
            "26\n",
            "28\n",
            "30\n",
            "32\n",
            "34\n",
            "36\n",
            "38\n",
            "40\n",
            "42\n",
            "44\n",
            "46\n",
            "48\n",
            "50\n"
          ]
        }
      ]
    },
    {
      "cell_type": "code",
      "source": [
        "# Write a Python program to iterate over a string and print each character using a while loop.\n",
        "string = input(\"Enter a string: \")\n",
        "i = 0\n",
        "length = len(string)\n",
        "while i < length:\n",
        "    print(string[i])\n",
        "    i+= 1"
      ],
      "metadata": {
        "id": "U-5ERUAZ8egc",
        "colab": {
          "base_uri": "https://localhost:8080/"
        },
        "outputId": "74738ae4-9e32-4f39-c040-bf8e801f4de2"
      },
      "execution_count": 23,
      "outputs": [
        {
          "output_type": "stream",
          "name": "stdout",
          "text": [
            "Enter a string: HELLO\n",
            "H\n",
            "E\n",
            "L\n",
            "L\n",
            "O\n"
          ]
        }
      ]
    },
    {
      "cell_type": "code",
      "source": [
        "# Write a Python program to iterate over a list of tuples and print each element using a while loop.\n",
        "list = [(1, 'apple'), (2, 'banana'), (3, 'cherry')]\n",
        "index = 0\n",
        "\n",
        "while index < len(list):\n",
        "    ele = list[index]\n",
        "    for ele in ele:\n",
        "        print(ele)\n",
        "    index += 1"
      ],
      "metadata": {
        "id": "vLgQxK-p8ekE",
        "colab": {
          "base_uri": "https://localhost:8080/"
        },
        "outputId": "f4a1bed2-209b-41be-8ca0-25372a3459c1"
      },
      "execution_count": 26,
      "outputs": [
        {
          "output_type": "stream",
          "name": "stdout",
          "text": [
            "1\n",
            "apple\n",
            "2\n",
            "banana\n",
            "3\n",
            "cherry\n"
          ]
        }
      ]
    },
    {
      "cell_type": "code",
      "source": [
        "# Write a Python program to find the largest element in a list using a while loop.\n",
        "numbers = [142, 45, 738, 23, 536, 89, 334, 67, 90]\n",
        "maximum = numbers[0]\n",
        "index = 1\n",
        "\n",
        "while index < len(numbers):\n",
        "    if numbers[index] > maximum:\n",
        "        maximum = numbers[index]\n",
        "    index += 1\n",
        "\n",
        "print(\"The largest element in the list is:\", maximum)\n"
      ],
      "metadata": {
        "id": "wy67Q9M88eqm",
        "colab": {
          "base_uri": "https://localhost:8080/"
        },
        "outputId": "4b059442-2a76-461e-aed8-28b42761d088"
      },
      "execution_count": 31,
      "outputs": [
        {
          "output_type": "stream",
          "name": "stdout",
          "text": [
            "The largest element in the list is: 738\n"
          ]
        }
      ]
    },
    {
      "cell_type": "code",
      "source": [
        "# Write a Python program to check if all elements in a list are even using a while loop\n",
        "numbers = [12, 14, 16, 81, 110, 112]\n",
        "index = 0\n",
        "while index < len(numbers):\n",
        "    if numbers[index] % 2 != 0:\n",
        "        print(\"Not all elements are even.\")\n",
        "        break\n",
        "    index += 1\n",
        "else:\n",
        "    print(\"All elements are even.\")"
      ],
      "metadata": {
        "id": "pqrCs8Nr8euU",
        "colab": {
          "base_uri": "https://localhost:8080/"
        },
        "outputId": "c303fc73-2822-4bc4-aa8e-64a7c00e2c34"
      },
      "execution_count": 29,
      "outputs": [
        {
          "output_type": "stream",
          "name": "stdout",
          "text": [
            "Not all elements are even.\n"
          ]
        }
      ]
    },
    {
      "cell_type": "code",
      "source": [
        "# Write a Python program to find the common elements between two lists using a while loop.\n",
        "list1 = [1, 2, 3, 4, 5]\n",
        "list2 = [3, 4, 5, 6, 7]\n",
        "\n",
        "index1 = 0\n",
        "index2 = 0\n",
        "\n",
        "common_elements = []\n",
        "\n",
        "while index1 < len(list1) and index2 < len(list2):\n",
        "    if list1[index1] == list2[index2]:\n",
        "        common_elements.append(list1[index1])\n",
        "        index1 += 1\n",
        "        index2 += 1\n",
        "    elif list1[index1] < list2[index2]:\n",
        "        index1 += 1\n",
        "    else:\n",
        "        index2 += 1\n",
        "\n",
        "print(\"Common elements between list1 and list2:\", common_elements)"
      ],
      "metadata": {
        "id": "9lW_1PJE8e26",
        "colab": {
          "base_uri": "https://localhost:8080/"
        },
        "outputId": "48472ad1-1f4a-48e9-e99d-65eda025de8a"
      },
      "execution_count": 33,
      "outputs": [
        {
          "output_type": "stream",
          "name": "stdout",
          "text": [
            "Common elements between list1 and list2: [3, 4, 5]\n"
          ]
        }
      ]
    },
    {
      "cell_type": "code",
      "source": [
        "# Write a Python program to calculate the sum of the digits of a number using a while loop.\n",
        "num = int(input(\"Enter a number: \"))\n",
        "sum = 0\n",
        "\n",
        "while num > 0:\n",
        "    digit = num % 10\n",
        "    sum += digit\n",
        "    num //= 10\n",
        "\n",
        "print(\"The sum of the digits is:\", sum)\n"
      ],
      "metadata": {
        "id": "7V2wVsaB8e_-",
        "colab": {
          "base_uri": "https://localhost:8080/"
        },
        "outputId": "935befc8-535b-4005-ea4a-582ad68b164e"
      },
      "execution_count": 35,
      "outputs": [
        {
          "output_type": "stream",
          "name": "stdout",
          "text": [
            "Enter a number: 553\n",
            "The sum of the digits is: 13\n"
          ]
        }
      ]
    }
  ]
}