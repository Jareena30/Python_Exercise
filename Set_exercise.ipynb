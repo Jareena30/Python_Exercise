{
  "nbformat": 4,
  "nbformat_minor": 0,
  "metadata": {
    "colab": {
      "provenance": []
    },
    "kernelspec": {
      "name": "python3",
      "display_name": "Python 3"
    },
    "language_info": {
      "name": "python"
    }
  },
  "cells": [
    {
      "cell_type": "code",
      "execution_count": 4,
      "metadata": {
        "colab": {
          "base_uri": "https://localhost:8080/"
        },
        "id": "ENDlzzffirkm",
        "outputId": "4fb3fdb6-fc9e-45eb-fc72-b989238873c6"
      },
      "outputs": [
        {
          "output_type": "stream",
          "name": "stdout",
          "text": [
            "Enter no of elements for first set:2\n",
            "Enter elements for first set:11\n",
            "Enter elements for first set:22\n",
            "First Set Elements: {'22', '11'}\n",
            "Enter no of elements for second set:2\n",
            "Enter elements for second set:33\n",
            "Enter elements for second set:11\n",
            "Second Set Elements: {'33', '11'}\n",
            "{'33', '22', '11'}\n"
          ]
        }
      ],
      "source": [
        "# Write a Python program to find the union of two sets.\n",
        "a= set()\n",
        "n= int(input('Enter no of elements for first set:'))\n",
        "\n",
        "for i in range(n):\n",
        "  ele = input('Enter elements for first set:')\n",
        "  a.add(ele)\n",
        "print('First Set Elements:', a)\n",
        "\n",
        "a1= set()\n",
        "n1= int(input('Enter no of elements for second set:'))\n",
        "\n",
        "for i in range(n1):\n",
        "  ele1 = input('Enter elements for second set:')\n",
        "  a1.add(ele1)\n",
        "print('Second Set Elements:', a1)\n",
        "\n",
        "a2 = a.union(a1)\n",
        "print('Union of two sets:', a2)"
      ]
    },
    {
      "cell_type": "code",
      "source": [
        "# Write a Python program to find the intersection of two sets.\n",
        "a= set()\n",
        "n= int(input('Enter no of elements for first set:'))\n",
        "\n",
        "for i in range(n):\n",
        "  ele = input('Enter elements for first set:')\n",
        "  a.add(ele)\n",
        "print('First Set Elements:', a)\n",
        "\n",
        "a1= set()\n",
        "n1= int(input('Enter no of elements for second set:'))\n",
        "\n",
        "for i in range(n1):\n",
        "  ele1 = input('Enter elements for second set:')\n",
        "  a1.add(ele1)\n",
        "print('Second Set Elements:', a1)\n",
        "\n",
        "a2 = a.intersection(a1)\n",
        "print('Intersection of two sets', a2)"
      ],
      "metadata": {
        "colab": {
          "base_uri": "https://localhost:8080/"
        },
        "id": "9GEk_wZ1lArJ",
        "outputId": "3e51eaa2-7056-45b6-96d4-edec931f71b0"
      },
      "execution_count": 7,
      "outputs": [
        {
          "output_type": "stream",
          "name": "stdout",
          "text": [
            "Enter no of elements for first set:2\n",
            "Enter elements for first set:11\n",
            "Enter elements for first set:22\n",
            "First Set Elements: {'22', '11'}\n",
            "Enter no of elements for second set:3\n",
            "Enter elements for second set:11\n",
            "Enter elements for second set:22\n",
            "Enter elements for second set:33\n",
            "Second Set Elements: {'33', '22', '11'}\n",
            "Intersection of two sets {'11', '22'}\n"
          ]
        }
      ]
    },
    {
      "cell_type": "code",
      "source": [
        "# Write a Python program to check if a set is a subset of another set.\n",
        "\n",
        "a= set()\n",
        "n= int(input('Enter no of elements for first set:'))\n",
        "\n",
        "for i in range(n):\n",
        "  ele = input('Enter elements for first set:')\n",
        "  a.add(ele)\n",
        "print('First Set Elements:', a)\n",
        "\n",
        "a1= set()\n",
        "n1= int(input('Enter no of elements for second set:'))\n",
        "\n",
        "for i in range(n1):\n",
        "  ele1 = input('Enter elements for second set:')\n",
        "  a1.add(ele1)\n",
        "print('Second Set Elements:', a1)\n",
        "\n",
        "print('Is Subset:', a.issubset(a1))"
      ],
      "metadata": {
        "colab": {
          "base_uri": "https://localhost:8080/"
        },
        "id": "VUF7FKNHltf3",
        "outputId": "45289dd6-413c-4697-8d2c-b633f356972e"
      },
      "execution_count": 11,
      "outputs": [
        {
          "output_type": "stream",
          "name": "stdout",
          "text": [
            "Enter no of elements for first set:3\n",
            "Enter elements for first set:1\n",
            "Enter elements for first set:2\n",
            "Enter elements for first set:3\n",
            "First Set Elements: {'2', '1', '3'}\n",
            "Enter no of elements for second set:4\n",
            "Enter elements for second set:1\n",
            "Enter elements for second set:2\n",
            "Enter elements for second set:3\n",
            "Enter elements for second set:4\n",
            "Second Set Elements: {'2', '1', '3', '4'}\n",
            "Is Subset: True\n"
          ]
        }
      ]
    },
    {
      "cell_type": "code",
      "source": [
        "# Write a Python program to remove duplicate elements from a set.\n",
        "a= set()\n",
        "n= int(input('Enter no of elements for first set:'))\n",
        "\n",
        "for i in range(n):\n",
        "  ele = input('Enter elements for first set:')\n",
        "  a.add(ele)\n",
        "print('First Set Elements:', a)\n",
        "\n",
        "a1= set()\n",
        "n1= int(input('Enter no of elements for second set:'))\n",
        "\n",
        "for i in range(n1):\n",
        "  ele1 = input('Enter elements for second set:')\n",
        "  a1.add(ele1)\n",
        "print('Second Set Elements:', a1)\n",
        "\n",
        "a2 = a.union(a1)\n",
        "print('Union of two sets:', a2)\n"
      ],
      "metadata": {
        "colab": {
          "base_uri": "https://localhost:8080/"
        },
        "id": "-vn-sBM4_cod",
        "outputId": "bea711e1-1f33-4b58-ddc2-332a6974c4ca"
      },
      "execution_count": 1,
      "outputs": [
        {
          "output_type": "stream",
          "name": "stdout",
          "text": [
            "Enter no of elements for first set:3\n",
            "Enter elements for first set:11\n",
            "Enter elements for first set:22\n",
            "Enter elements for first set:33\n",
            "First Set Elements: {'22', '11', '33'}\n",
            "Enter no of elements for second set:3\n",
            "Enter elements for second set:11\n",
            "Enter elements for second set:23\n",
            "Enter elements for second set:34\n",
            "Second Set Elements: {'11', '23', '34'}\n",
            "Union of two sets: {'23', '22', '11', '34', '33'}\n"
          ]
        }
      ]
    },
    {
      "cell_type": "code",
      "source": [
        "# Write a Python program to add an element to a set.\n",
        "\n",
        "a= set()\n",
        "n= int(input('Enter no of elements for set:'))\n",
        "\n",
        "for i in range(n):\n",
        "  ele = input('Enter elements for set:')\n",
        "  a.add(ele)             #elements are added to set\n",
        "print('Set Elements:', a)"
      ],
      "metadata": {
        "colab": {
          "base_uri": "https://localhost:8080/"
        },
        "id": "tVZ0UepxImqE",
        "outputId": "701946de-8055-461d-f808-ec2cf0350447"
      },
      "execution_count": 2,
      "outputs": [
        {
          "output_type": "stream",
          "name": "stdout",
          "text": [
            "Enter no of elements for set:4\n",
            "Enter elements for set:1\n",
            "Enter elements for set:2\n",
            "Enter elements for set:3\n",
            "Enter elements for set:4\n",
            "Set Elements: {'2', '1', '3', '4'}\n"
          ]
        }
      ]
    },
    {
      "cell_type": "code",
      "source": [
        "# Write a Python program to remove an element from a set.\n",
        "a= set()\n",
        "n= int(input('Enter no of elements for set:'))\n",
        "\n",
        "for i in range(n):\n",
        "  ele = input('Enter elements for set:')\n",
        "  a.add(ele)             #elements are added to set\n",
        "print('Set Elements:', a)\n",
        "ele1 = input('Enter elements to remove from set:')\n",
        "a.remove(ele1)    #removes specified element\n",
        "print('Set Elements:', a)    #set after removing element"
      ],
      "metadata": {
        "colab": {
          "base_uri": "https://localhost:8080/"
        },
        "id": "ODPLR-TII-0D",
        "outputId": "a7fa2d07-6527-490c-9773-56180241c9b7"
      },
      "execution_count": 3,
      "outputs": [
        {
          "output_type": "stream",
          "name": "stdout",
          "text": [
            "Enter no of elements for set:4\n",
            "Enter elements for set:1\n",
            "Enter elements for set:2\n",
            "Enter elements for set:3\n",
            "Enter elements for set:4\n",
            "Set Elements: {'2', '1', '3', '4'}\n",
            "Enter elements to remove from set:2\n",
            "Set Elements: {'1', '3', '4'}\n"
          ]
        }
      ]
    },
    {
      "cell_type": "code",
      "source": [
        "# Write a Python program to find the difference between two sets.\n",
        "a= set()\n",
        "n= int(input('Enter no of elements for first set:'))\n",
        "\n",
        "for i in range(n):\n",
        "  ele = input('Enter elements for first set:')\n",
        "  a.add(ele)\n",
        "print('First Set Elements:', a)\n",
        "\n",
        "a1= set()\n",
        "n1= int(input('Enter no of elements for second set:'))\n",
        "\n",
        "for i in range(n1):\n",
        "  ele1 = input('Enter elements for second set:')\n",
        "  a1.add(ele1)\n",
        "print('Second Set Elements:', a1)\n",
        "\n",
        "print(\"Difference between two sets: \", a.difference(a1))  #difference between two sets\n",
        "print(\"Difference between two sets: \", a1.difference(a))   #difference between two sets\n"
      ],
      "metadata": {
        "colab": {
          "base_uri": "https://localhost:8080/"
        },
        "id": "2fZ8zTsPJkrR",
        "outputId": "f9684063-0f05-4a21-a0c5-5434e885c9ab"
      },
      "execution_count": 5,
      "outputs": [
        {
          "output_type": "stream",
          "name": "stdout",
          "text": [
            "Enter no of elements for first set: 4\n",
            "Enter elements for first set:1\n",
            "Enter elements for first set:2\n",
            "Enter elements for first set:3\n",
            "Enter elements for first set:4\n",
            "First Set Elements: {'2', '1', '3', '4'}\n",
            "Enter no of elements for second set:3\n",
            "Enter elements for second set:11\n",
            "Enter elements for second set:2\n",
            "Enter elements for second set:33\n",
            "Second Set Elements: {'2', '11', '33'}\n",
            "Difference between two sets:  {'1', '3', '4'}\n",
            "Difference between two sets:  {'11', '33'}\n"
          ]
        }
      ]
    },
    {
      "cell_type": "code",
      "source": [
        "# Write a Python program to check if two sets are disjoint\n",
        "a= set()\n",
        "n= int(input('Enter no of elements for first set:'))\n",
        "\n",
        "for i in range(n):\n",
        "  ele = input('Enter elements for first set:')\n",
        "  a.add(ele)\n",
        "print('First Set Elements:', a)\n",
        "\n",
        "a1= set()\n",
        "n1= int(input('Enter no of elements for second set:'))\n",
        "\n",
        "for i in range(n1):\n",
        "  ele1 = input('Enter elements for second set:')\n",
        "  a1.add(ele1)\n",
        "print('Second Set Elements:', a1)\n",
        "\n",
        "print(\"Disjoints of two sets: \", a.isdisjoint(a1))  #Disjoints of two sets\n",
        "print(\"Disjoints of two sets: \", a1.isdisjoint(a))   #Disjoints of two sets"
      ],
      "metadata": {
        "colab": {
          "base_uri": "https://localhost:8080/"
        },
        "id": "PJ1HOy1bK-va",
        "outputId": "80946691-b20e-4f00-d1d5-f12d46077018"
      },
      "execution_count": 7,
      "outputs": [
        {
          "output_type": "stream",
          "name": "stdout",
          "text": [
            "Enter no of elements for first set:3\n",
            "Enter elements for first set:1\n",
            "Enter elements for first set:2\n",
            "Enter elements for first set:3\n",
            "First Set Elements: {'2', '1', '3'}\n",
            "Enter no of elements for second set:3\n",
            "Enter elements for second set:11\n",
            "Enter elements for second set:12\n",
            "Enter elements for second set:13\n",
            "Second Set Elements: {'13', '11', '12'}\n",
            "Disjoints of two sets:  True\n",
            "Disjoints of two sets:  True\n"
          ]
        }
      ]
    },
    {
      "cell_type": "code",
      "source": [
        "# Write a Python program to find the symmetric difference between two sets.\n",
        "a= set()\n",
        "n= int(input('Enter no of elements for first set:'))\n",
        "\n",
        "for i in range(n):\n",
        "  ele = input('Enter elements for first set:')\n",
        "  a.add(ele)\n",
        "print('First Set Elements:', a)\n",
        "\n",
        "a1= set()\n",
        "n1= int(input('Enter no of elements for second set:'))\n",
        "\n",
        "for i in range(n1):\n",
        "  ele1 = input('Enter elements for second set:')\n",
        "  a1.add(ele1)\n",
        "print('Second Set Elements:', a1)\n",
        "\n",
        "print(\"Symmetric difference betweentwo sets: \", a.symmetric_difference(a1))  #symmetric difference"
      ],
      "metadata": {
        "colab": {
          "base_uri": "https://localhost:8080/"
        },
        "id": "5EapvX7NK677",
        "outputId": "0e263e05-f86a-45af-94b4-516002748aeb"
      },
      "execution_count": 8,
      "outputs": [
        {
          "output_type": "stream",
          "name": "stdout",
          "text": [
            "Enter no of elements for first set:3\n",
            "Enter elements for first set:1\n",
            "Enter elements for first set:2\n",
            "Enter elements for first set:3\n",
            "First Set Elements: {'2', '1', '3'}\n",
            "Enter no of elements for second set:4\n",
            "Enter elements for second set:11\n",
            "Enter elements for second set:12\n",
            "Enter elements for second set:3\n",
            "Enter elements for second set:4\n",
            "Second Set Elements: {'11', '12', '3', '4'}\n",
            "Symmetric difference betweentwo sets:  {'1', '11', '4', '2', '12'}\n"
          ]
        }
      ]
    },
    {
      "cell_type": "code",
      "source": [
        "# Write a Python program to check if a set is empty.\n",
        "set1 = {}\n",
        "length = len(set1)\n",
        "\n",
        "if length == 0 :\n",
        "  print('Set is empty')\n"
      ],
      "metadata": {
        "colab": {
          "base_uri": "https://localhost:8080/"
        },
        "id": "MuTqktXyNHka",
        "outputId": "f5e94d0b-6eb6-437c-b777-8a800480a061"
      },
      "execution_count": 12,
      "outputs": [
        {
          "output_type": "stream",
          "name": "stdout",
          "text": [
            "Set is empty\n"
          ]
        }
      ]
    }
  ]
}