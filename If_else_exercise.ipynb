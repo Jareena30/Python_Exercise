{
  "nbformat": 4,
  "nbformat_minor": 0,
  "metadata": {
    "colab": {
      "provenance": []
    },
    "kernelspec": {
      "name": "python3",
      "display_name": "Python 3"
    },
    "language_info": {
      "name": "python"
    }
  },
  "cells": [
    {
      "cell_type": "code",
      "execution_count": 6,
      "metadata": {
        "colab": {
          "base_uri": "https://localhost:8080/"
        },
        "id": "6W5VSd0ZpIq7",
        "outputId": "294bbf72-3432-4ed5-9165-6047172c7b9a"
      },
      "outputs": [
        {
          "output_type": "stream",
          "name": "stdout",
          "text": [
            "Enter the no : 1\n",
            "1 is positive number\n"
          ]
        }
      ],
      "source": [
        "# Write a Python program to check if a number is positive, negative, or zero.\n",
        "number = int(input('Enter the no : '))\n",
        "if number >0 :\n",
        "  print(f'{number} is positive number')\n",
        "elif number <0 :\n",
        "  print(f'{number} is negative number ')\n",
        "else :\n",
        "  print(f'{number} is zero')"
      ]
    },
    {
      "cell_type": "code",
      "source": [
        "# Write a Python program to check if a number is even or odd.\n",
        "number = int(input('Enter the no : '))\n",
        "if number % 2==0 :\n",
        "  print(f'{number} is even number')\n",
        "else :\n",
        "    print(f'{number} is odd number ')"
      ],
      "metadata": {
        "colab": {
          "base_uri": "https://localhost:8080/"
        },
        "id": "5air8XV5pNPt",
        "outputId": "125a76c4-2896-4755-ef89-6c67c3545ec8"
      },
      "execution_count": 8,
      "outputs": [
        {
          "output_type": "stream",
          "name": "stdout",
          "text": [
            "Enter the no : 5\n",
            "5 is odd number \n"
          ]
        }
      ]
    },
    {
      "cell_type": "code",
      "source": [
        "# Write a Python program to check if a year is a leap year or not.\n",
        "number = int(input('Enter the year : '))\n",
        "if number % 4==0 :\n",
        "  print(f'{number} is leap year ')\n",
        "else :\n",
        "    print(f'{number} is not leap year ')"
      ],
      "metadata": {
        "colab": {
          "base_uri": "https://localhost:8080/"
        },
        "id": "GR98NTqcpNam",
        "outputId": "40e9ba96-32c9-4cbd-977a-794098ebba6b"
      },
      "execution_count": 10,
      "outputs": [
        {
          "output_type": "stream",
          "name": "stdout",
          "text": [
            "Enter the no : 2020\n",
            "2020 is leap year \n"
          ]
        }
      ]
    },
    {
      "cell_type": "code",
      "source": [
        "# Write a Python program to find the maximum of three numbers using if-else.\n",
        "num1 = int(input(\"Enter the first number: \"))\n",
        "num2 = int(input(\"Enter the second number: \"))\n",
        "num3 = int(input(\"Enter the third number: \"))\n",
        "\n",
        "max = num1\n",
        "\n",
        "if num2 > max:\n",
        "    max = num2\n",
        "\n",
        "if num3 > max:\n",
        "    max = num3\n",
        "\n",
        "print(f\"The maximum number is: {max}\")"
      ],
      "metadata": {
        "colab": {
          "base_uri": "https://localhost:8080/"
        },
        "id": "v0LwCfiLpNkE",
        "outputId": "c5f2d848-9f1f-4d20-a294-f64b75ae90f0"
      },
      "execution_count": 12,
      "outputs": [
        {
          "output_type": "stream",
          "name": "stdout",
          "text": [
            "Enter the first number: 12\n",
            "Enter the second number: 23\n",
            "Enter the third number: 15\n",
            "The maximum number is: 23\n"
          ]
        }
      ]
    },
    {
      "cell_type": "code",
      "source": [
        "# Write a Python program to check if a number is prime.\n",
        "num = int(input(\"Enter a number: \"))\n",
        "\n",
        "if num <= 1:\n",
        "    is_prime = False\n",
        "else:\n",
        "    is_prime = True\n",
        "    for i in range(2, int(num ** 0.5) + 1):\n",
        "        if num % i == 0:\n",
        "            is_prime = False\n",
        "            break\n",
        "\n",
        "if is_prime:\n",
        "    print(f\"{num} is a prime number.\")\n",
        "else:\n",
        "    print(f\"{num} is not a prime number.\")\n"
      ],
      "metadata": {
        "colab": {
          "base_uri": "https://localhost:8080/"
        },
        "id": "rP7U0m7epN2L",
        "outputId": "eacb43f8-f267-4c4a-8875-1957fc50a317"
      },
      "execution_count": 13,
      "outputs": [
        {
          "output_type": "stream",
          "name": "stdout",
          "text": [
            "Enter a number: 23\n",
            "23 is a prime number.\n"
          ]
        }
      ]
    },
    {
      "cell_type": "code",
      "source": [
        "# Write a Python program to check if a number is divisible by both 3 and 5.\n",
        "number = int(input('Enter the no : '))\n",
        "if number % 3 and number % 5 ==0 :\n",
        "  print(f'{number} is divisible by 3 & 5')\n",
        "else :\n",
        "    print(f'{number} is not  by 3 & 5 ')"
      ],
      "metadata": {
        "id": "aVWtImDzpN93",
        "colab": {
          "base_uri": "https://localhost:8080/"
        },
        "outputId": "54946dc6-d756-4292-a2f4-7c11b1c0a319"
      },
      "execution_count": 15,
      "outputs": [
        {
          "output_type": "stream",
          "name": "stdout",
          "text": [
            "Enter the no : 30\n",
            "30 is not  by 3 & 5 \n"
          ]
        }
      ]
    },
    {
      "cell_type": "code",
      "source": [
        "# Write a Python program to check if a character is a vowel or consonant.\n",
        "char = input(\"Enter a character: \")\n",
        "\n",
        "char = char.lower()\n",
        "\n",
        "if char.isalpha() and len(char) == 1:\n",
        "    if char in \"aeiou\":\n",
        "        print(f\"{char} is a vowel.\")\n",
        "    else:\n",
        "        print(f\"{char} is a consonant.\")\n",
        "else:\n",
        "    print(\"Please enter a single alphabetic character.\")\n"
      ],
      "metadata": {
        "colab": {
          "base_uri": "https://localhost:8080/"
        },
        "id": "qqseYZXdpOPS",
        "outputId": "6f96cf33-50ac-4ed6-c50f-6ca3b4097bf9"
      },
      "execution_count": 16,
      "outputs": [
        {
          "output_type": "stream",
          "name": "stdout",
          "text": [
            "Enter a character: s\n",
            "s is a consonant.\n"
          ]
        }
      ]
    },
    {
      "cell_type": "code",
      "source": [
        "# Write a Python program to check if a given string is a palindrome using if-else.\n",
        "string = input(\"Enter string \")\n",
        "\n",
        "if string == string[::-1]:\n",
        "    print(f\"'{string}' is a palindrome.\")\n",
        "else:\n",
        "    print(f\"'{string}' is not a palindrome.\")"
      ],
      "metadata": {
        "colab": {
          "base_uri": "https://localhost:8080/"
        },
        "id": "jOLrZLQ2pOXJ",
        "outputId": "f7bd64c4-4f82-471d-e9de-619786204ddb"
      },
      "execution_count": 19,
      "outputs": [
        {
          "output_type": "stream",
          "name": "stdout",
          "text": [
            "Enter string mam\n",
            "'mam' is a palindrome.\n"
          ]
        }
      ]
    },
    {
      "cell_type": "code",
      "source": [
        "# Write a Python program to determine the largest among three numbers using nested if-else.\n",
        "# Input three numbers\n",
        "num1 = int(input(\"Enter the first number: \"))\n",
        "num2 = int(input(\"Enter the second number: \"))\n",
        "num3 = int(input(\"Enter the third number: \"))\n",
        "\n",
        "if num1 >= num2:\n",
        "    if num1 >= num3:\n",
        "        largest = num1\n",
        "    else:\n",
        "        largest = num3\n",
        "else:\n",
        "    if num2 >= num3:\n",
        "        largest = num2\n",
        "    else:\n",
        "        largest = num3\n",
        "\n",
        "print(f\"The largest number among {num1}, {num2}, and {num3} is {largest}.\")\n"
      ],
      "metadata": {
        "colab": {
          "base_uri": "https://localhost:8080/"
        },
        "id": "bZJ4qLs3pd_n",
        "outputId": "b90fba91-90e4-422f-aa08-24060155fed1"
      },
      "execution_count": 20,
      "outputs": [
        {
          "output_type": "stream",
          "name": "stdout",
          "text": [
            "Enter the first number: 12\n",
            "Enter the second number: 34\n",
            "Enter the third number: 1\n",
            "The largest number among 12, 34, and 1 is 34.\n"
          ]
        }
      ]
    },
    {
      "cell_type": "code",
      "source": [
        "# Write a Python program to check if a triangle is equilateral, isosceles, or scalene based on its side lengths using if-else.\n",
        "side1 = float(input(\"Enter the length of the first side: \"))\n",
        "side2 = float(input(\"Enter the length of the second side: \"))\n",
        "side3 = float(input(\"Enter the length of the third side: \"))\n",
        "\n",
        "if side1 == side2 == side3:\n",
        "    triangle_type = \"equilateral\"\n",
        "elif side1 == side2 or side2 == side3 or side1 == side3:\n",
        "    triangle_type = \"isosceles\"\n",
        "else:\n",
        "    triangle_type = \"scalene\"\n",
        "\n",
        "print(f\"The triangle with side lengths {side1}, {side2}, and {side3} is {triangle_type}.\")\n"
      ],
      "metadata": {
        "colab": {
          "base_uri": "https://localhost:8080/"
        },
        "id": "cpQ9bvFPpeSy",
        "outputId": "4cd61e50-bd87-4768-b9e9-59afa74d46ac"
      },
      "execution_count": 22,
      "outputs": [
        {
          "output_type": "stream",
          "name": "stdout",
          "text": [
            "Enter the length of the first side: 5\n",
            "Enter the length of the second side: 5\n",
            "Enter the length of the third side: 5\n",
            "The triangle with side lengths 5.0, 5.0, and 5.0 is equilateral.\n"
          ]
        }
      ]
    }
  ]
}