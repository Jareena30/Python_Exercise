{
  "nbformat": 4,
  "nbformat_minor": 0,
  "metadata": {
    "colab": {
      "provenance": []
    },
    "kernelspec": {
      "name": "python3",
      "display_name": "Python 3"
    },
    "language_info": {
      "name": "python"
    }
  },
  "cells": [
    {
      "cell_type": "code",
      "execution_count": 5,
      "metadata": {
        "colab": {
          "base_uri": "https://localhost:8080/"
        },
        "id": "8YgauQLRX5eE",
        "outputId": "01dbe498-bd51-4d71-d6dc-d3d638f78d51"
      },
      "outputs": [
        {
          "output_type": "stream",
          "name": "stdout",
          "text": [
            "1\n",
            "2\n",
            "3\n",
            "4\n",
            "5\n",
            "6\n",
            "7\n",
            "8\n",
            "9\n",
            "10\n"
          ]
        }
      ],
      "source": [
        " # Write a Python program to print the numbers from 1 to 10 using a for loop.\n",
        " for num in range(1,11) :\n",
        "  print(num)\n",
        ""
      ]
    },
    {
      "cell_type": "code",
      "source": [
        "# Write a Python program to calculate the sum of all numbers in a list using a for loop.\n",
        "list1 = [1,2,3,4,5]\n",
        "sum =0\n",
        "for num in list1 :\n",
        "  sum = sum + num\n",
        "  print(sum)\n",
        "\n",
        ""
      ],
      "metadata": {
        "colab": {
          "base_uri": "https://localhost:8080/"
        },
        "id": "gSP5PEdQYDyc",
        "outputId": "bb8a8661-7c55-42e3-b78d-6872c26c8bba"
      },
      "execution_count": 7,
      "outputs": [
        {
          "output_type": "stream",
          "name": "stdout",
          "text": [
            "1\n",
            "3\n",
            "6\n",
            "10\n",
            "15\n"
          ]
        }
      ]
    },
    {
      "cell_type": "code",
      "source": [
        "# Write a Python program to find the factorial of a number using a for loop.\n",
        "num = int(input('Enter a no: '))\n",
        "fact =1\n",
        "for i in range (1, num+1) :\n",
        "  fact = fact* i\n",
        "\n",
        "print(f'factorial of {num} is :', fact)"
      ],
      "metadata": {
        "colab": {
          "base_uri": "https://localhost:8080/"
        },
        "id": "_wTqSyX6YD9a",
        "outputId": "759dee97-3a17-4285-b1b3-1f5896ac373f"
      },
      "execution_count": 16,
      "outputs": [
        {
          "output_type": "stream",
          "name": "stdout",
          "text": [
            "Enter a no: 5\n",
            "factorial of 5 is : 120\n"
          ]
        }
      ]
    },
    {
      "cell_type": "code",
      "source": [
        "# Write a Python program to print all the even numbers between 1 and 50 using a for loop.\n",
        "for i in range (1, 50) :\n",
        "  if i% 2 ==0 :\n",
        "    print(i)\n"
      ],
      "metadata": {
        "colab": {
          "base_uri": "https://localhost:8080/"
        },
        "id": "eiMAbHFqYEHz",
        "outputId": "583a6924-1047-40f2-cebc-65956b73ceb2"
      },
      "execution_count": 18,
      "outputs": [
        {
          "output_type": "stream",
          "name": "stdout",
          "text": [
            "2\n",
            "4\n",
            "6\n",
            "8\n",
            "10\n",
            "12\n",
            "14\n",
            "16\n",
            "18\n",
            "20\n",
            "22\n",
            "24\n",
            "26\n",
            "28\n",
            "30\n",
            "32\n",
            "34\n",
            "36\n",
            "38\n",
            "40\n",
            "42\n",
            "44\n",
            "46\n",
            "48\n"
          ]
        }
      ]
    },
    {
      "cell_type": "code",
      "source": [
        "# Write a Python program to iterate over a string and print each character using a for loop.\n",
        "str = (input('Enter a string: '))\n",
        "\n",
        "for char in str :\n",
        " print(char)"
      ],
      "metadata": {
        "colab": {
          "base_uri": "https://localhost:8080/"
        },
        "id": "VCt3ur08YERq",
        "outputId": "acc60dc8-14fb-4ca5-e5f1-2302ee61adee"
      },
      "execution_count": 22,
      "outputs": [
        {
          "output_type": "stream",
          "name": "stdout",
          "text": [
            "Enter a string: hello\n",
            "h\n",
            "e\n",
            "l\n",
            "l\n",
            "o\n"
          ]
        }
      ]
    },
    {
      "cell_type": "code",
      "source": [
        " # Write a Python program to iterate over a list of tuples and print each element using a for loop.\n",
        " list = [(1, 'apple'), (2, 'banana'), (3, 'cherry')]\n",
        "\n",
        "for tup in list:\n",
        "    for element in tup:\n",
        "        print(element)"
      ],
      "metadata": {
        "colab": {
          "base_uri": "https://localhost:8080/"
        },
        "id": "X62uGbHjYEc9",
        "outputId": "55fbffa0-185d-4640-a680-9d3c4ccb7ecf"
      },
      "execution_count": 21,
      "outputs": [
        {
          "output_type": "stream",
          "name": "stdout",
          "text": [
            "1\n",
            "apple\n",
            "2\n",
            "banana\n",
            "3\n",
            "cherry\n"
          ]
        }
      ]
    },
    {
      "cell_type": "code",
      "source": [
        "# Write a Python program to find the largest element in a list using a for loop.\n",
        "list = [12,34,11,4,56,33]\n",
        "\n",
        "maximum = list[0]\n",
        "for num in list:\n",
        "    if num > maximum:\n",
        "        maximum = num\n",
        "\n",
        "print(\"The largest element in the list is:\", maximum)\n"
      ],
      "metadata": {
        "colab": {
          "base_uri": "https://localhost:8080/"
        },
        "id": "gC9orBmpYEnM",
        "outputId": "72354cf0-3f06-4a05-f77e-f563bf2012c0"
      },
      "execution_count": 25,
      "outputs": [
        {
          "output_type": "stream",
          "name": "stdout",
          "text": [
            "The largest element in the list is: 56\n"
          ]
        }
      ]
    },
    {
      "cell_type": "code",
      "source": [
        " # Write a Python program to check if all elements in a list are even using a for loop.\n",
        "list = [12,34,11,4,56,33]\n",
        "\n",
        " for i in list :\n",
        "  if i% 2 ==0 :\n",
        "    print(f'{i} is even no.')\n",
        "  else :\n",
        "    print(f'{i} is odd no.')"
      ],
      "metadata": {
        "colab": {
          "base_uri": "https://localhost:8080/"
        },
        "id": "Xy0YV0QYYExS",
        "outputId": "c3c1c3b1-5717-4a02-bf06-41a9fe3bfc00"
      },
      "execution_count": 27,
      "outputs": [
        {
          "output_type": "stream",
          "name": "stdout",
          "text": [
            "12 is even no.\n",
            "34 is even no.\n",
            "11 is odd no.\n",
            "4 is even no.\n",
            "56 is even no.\n",
            "33 is odd no.\n"
          ]
        }
      ]
    },
    {
      "cell_type": "code",
      "source": [
        "# Write a Python program to find the common elements between two lists using a for loop.\n",
        "list1 = [1, 2, 3, 4, 5]\n",
        "list2 = [3, 4, 5, 6, 7]\n",
        "common_ele = []\n",
        "\n",
        "for ele1 in list1:\n",
        "  for ele2 in list2:\n",
        "    if ele1 == ele2 :\n",
        "      common_ele.append(ele1)\n",
        "\n",
        "print(\"Common elements between list1 and list2:\", common_ele)\n"
      ],
      "metadata": {
        "colab": {
          "base_uri": "https://localhost:8080/"
        },
        "id": "KrdrVHNKYE7b",
        "outputId": "83468eef-25bb-4926-ab0e-15bac7c0cddc"
      },
      "execution_count": 30,
      "outputs": [
        {
          "output_type": "stream",
          "name": "stdout",
          "text": [
            "Common elements between list1 and list2: [3, 4, 5]\n"
          ]
        }
      ]
    },
    {
      "cell_type": "code",
      "source": [
        "# Write a Python program to calculate the sum of the digits of a number using a for loop.\n",
        "number = int(input(\"Enter a number: \"))\n",
        "\n",
        "sum = 0\n",
        "\n",
        "while number > 0:\n",
        "    digit = number % 10\n",
        "    sum += digit\n",
        "    number //= 10\n",
        "\n",
        "print(\"The sum of the digits is:\", sum)\n"
      ],
      "metadata": {
        "colab": {
          "base_uri": "https://localhost:8080/"
        },
        "id": "TVTJCs-_YFFl",
        "outputId": "dc4cc136-d841-4a8a-abcd-88e0323009b6"
      },
      "execution_count": 32,
      "outputs": [
        {
          "output_type": "stream",
          "name": "stdout",
          "text": [
            "Enter a number: 3453\n",
            "The sum of the digits is: 15\n"
          ]
        }
      ]
    }
  ]
}