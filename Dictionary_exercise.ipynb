{
  "cells": [
    {
      "cell_type": "code",
      "execution_count": 3,
      "metadata": {
        "colab": {
          "base_uri": "https://localhost:8080/"
        },
        "id": "Fh8zTY9kOYSq",
        "outputId": "091bd15b-ec98-49a3-fe12-5775540deebe"
      },
      "outputs": [
        {
          "output_type": "stream",
          "name": "stdout",
          "text": [
            "Enter no of elements: 4\n",
            "Enter Key :1\n",
            "Enter Value : 23\n",
            "Enter Key :2\n",
            "Enter Value : 45\n",
            "Enter Key :3\n",
            "Enter Value : 22\n",
            "Enter Key :4\n",
            "Enter Value : 56\n",
            "{'1': '23', '2': '45', '3': '22', '4': '56'}\n"
          ]
        }
      ],
      "source": [
        "# Write a Python program to iterate over a dictionary and print its keys and values.\n",
        "a = {}\n",
        "n = int(input('Enter no of elements: '))\n",
        "\n",
        "for i in range(n):\n",
        "  k = input('Enter Key :')\n",
        "  v = input ('Enter Value : ')\n",
        "  a.update({k:v})\n",
        "print(a)"
      ]
    },
    {
      "cell_type": "code",
      "source": [
        "# Write a Python program to check if a key exists in a dictionary\n",
        "a = {}\n",
        "n = int(input('Enter no of elements: '))\n",
        "\n",
        "for i in range(n):\n",
        "  k = input('Enter Key :')\n",
        "  v = input ('Enter Value : ')\n",
        "  a.update({k:v})\n",
        "print(a)\n",
        "\n",
        "k1 = input('Enter Key to check  :')\n",
        "if k1 in a :\n",
        "  print('Key is present')\n",
        "else :\n",
        "  print('Key is not present')\n",
        "\n"
      ],
      "metadata": {
        "colab": {
          "base_uri": "https://localhost:8080/"
        },
        "id": "dCwW6898qmqw",
        "outputId": "d6ca1fe4-3e6e-4449-8af8-f2cc3b620913"
      },
      "execution_count": 4,
      "outputs": [
        {
          "output_type": "stream",
          "name": "stdout",
          "text": [
            "Enter no of elements: 4\n",
            "Enter Key :1\n",
            "Enter Value : 233\n",
            "Enter Key :2\n",
            "Enter Value : 4566\n",
            "Enter Key :3\n",
            "Enter Value : 211\n",
            "Enter Key :4\n",
            "Enter Value : 6777\n",
            "{'1': '233', '2': '4566', '3': '211', '4': '6777'}\n",
            "Enter Key to check  :3\n",
            "Key is present\n"
          ]
        }
      ]
    },
    {
      "cell_type": "code",
      "source": [
        "# Write a Python program to get the value associated with a key in a dictionary.\n",
        "a = {}\n",
        "n = int(input('Enter no of elements: '))\n",
        "\n",
        "for i in range(n):\n",
        "  k = input('Enter Key :')\n",
        "  v = input ('Enter Value : ')\n",
        "  a.update({k:v})\n",
        "print(a)\n",
        "\n",
        "k1 = input('Enter Key to check  :')\n",
        "if k1 in a :\n",
        "  print('Value associated with key is :',a[k1])   #gives value associated with key\n",
        "\n"
      ],
      "metadata": {
        "colab": {
          "base_uri": "https://localhost:8080/"
        },
        "id": "nsJal1RPrOPS",
        "outputId": "ac0fc77c-4010-4c8b-8fda-3b51582a2e57"
      },
      "execution_count": 5,
      "outputs": [
        {
          "output_type": "stream",
          "name": "stdout",
          "text": [
            "Enter no of elements: 3\n",
            "Enter Key :1\n",
            "Enter Value : 223\n",
            "Enter Key :2\n",
            "Enter Value : 44\n",
            "Enter Key :3\n",
            "Enter Value : 222\n",
            "{'1': '223', '2': '44', '3': '222'}\n",
            "Enter Key to check  :1\n",
            "Value associated with key is : 223\n"
          ]
        }
      ]
    },
    {
      "cell_type": "code",
      "source": [
        "# Write a Python program to remove a key from a dictionary.\n",
        "a = {}\n",
        "n = int(input('Enter no of elements: '))\n",
        "\n",
        "for i in range(n):\n",
        "  k = input('Enter Key :')\n",
        "  v = input ('Enter Value : ')\n",
        "  a.update({k:v})\n",
        "print(a)\n",
        "\n",
        "key_to_remove = input('Enter key to remove')\n",
        "if key_to_remove in a:\n",
        "    del a[key_to_remove]\n",
        "else:\n",
        "    print(f\"{key_to_remove} not found in the dictionary\")\n",
        "\n",
        "print(\"Updated Dictionary (using del):\", a)"
      ],
      "metadata": {
        "colab": {
          "base_uri": "https://localhost:8080/"
        },
        "id": "Qxl4UBMXsK-V",
        "outputId": "7450b354-a5bd-4060-dc05-914c840ea2a6"
      },
      "execution_count": 32,
      "outputs": [
        {
          "output_type": "stream",
          "name": "stdout",
          "text": [
            "Enter no of elements: 4\n",
            "Enter Key :a\n",
            "Enter Value : 45\n",
            "Enter Key :b\n",
            "Enter Value : 67\n",
            "Enter Key :c\n",
            "Enter Value : 34\n",
            "Enter Key :d\n",
            "Enter Value : 22\n",
            "{'a': '45', 'b': '67', 'c': '34', 'd': '22'}\n",
            "Enter key to removeb\n",
            "Updated Dictionary (using del): {'a': '45', 'c': '34', 'd': '22'}\n"
          ]
        }
      ]
    },
    {
      "cell_type": "code",
      "source": [
        "# Write a Python program to sort a dictionary by its values.\n",
        "a = {}\n",
        "n = int(input('Enter no of elements: '))\n",
        "\n",
        "for i in range(n):\n",
        "  k = input('Enter Key :')\n",
        "  v = input ('Enter Value : ')\n",
        "  a.update({k:v})\n",
        "print('Dictionary elements :', a)\n",
        "\n",
        "sorted_dict = {k: v for k, v in sorted(a.items(), key=lambda item: item[1])}\n",
        "for key, value in sorted_dict.items():\n",
        "    print(f'{key}: {value}')\n"
      ],
      "metadata": {
        "colab": {
          "base_uri": "https://localhost:8080/"
        },
        "id": "3c5rmPoZsDfG",
        "outputId": "c6c60102-7f2e-436c-9053-a60919199b9a"
      },
      "execution_count": 31,
      "outputs": [
        {
          "output_type": "stream",
          "name": "stdout",
          "text": [
            "Enter no of elements: 4\n",
            "Enter Key :a\n",
            "Enter Value : 23\n",
            "Enter Key :b\n",
            "Enter Value : 45\n",
            "Enter Key :c\n",
            "Enter Value : 23\n",
            "Enter Key :d\n",
            "Enter Value : 56\n",
            "Dictionary elements : {'a': '23', 'b': '45', 'c': '23', 'd': '56'}\n",
            "a: 23\n",
            "c: 23\n",
            "b: 45\n",
            "d: 56\n"
          ]
        }
      ]
    },
    {
      "cell_type": "code",
      "source": [
        "# Write a Python program to merge two dictionaries.\n",
        "a = {}\n",
        "n = int(input('Enter no of  for first dictionary: '))\n",
        "\n",
        "for i in range(n):\n",
        "  k = input('Enter Key :')\n",
        "  v = input ('Enter Value : ')\n",
        "  a.update({k:v})\n",
        "print('First dictionary Dictionary elements :', a)\n",
        "\n",
        "a1 = {}\n",
        "n451 = int(input('Enter no of elements for second dictionary: '))\n",
        "\n",
        "for i in range(n1):\n",
        "  k1 = input('Enter Key :')\n",
        "  v1 = input ('Enter Value : ')\n",
        "  a1.update({k1:v1})\n",
        "print('Second Dictionary elements :', a1)\n",
        "\n",
        "a.update(a1)     # a & a1 merged\n",
        "print('Mergerd dictionary :', a)"
      ],
      "metadata": {
        "colab": {
          "base_uri": "https://localhost:8080/"
        },
        "id": "0s5sllyNsWRM",
        "outputId": "a30837fd-7f83-43a6-c676-991423da3827"
      },
      "execution_count": 34,
      "outputs": [
        {
          "output_type": "stream",
          "name": "stdout",
          "text": [
            "Enter no of  for first dictionary: 3\n",
            "Enter Key :a\n",
            "Enter Value : b\n",
            "Enter Key :c\n",
            "Enter Value : rr\n",
            "Enter Key :g\n",
            "Enter Value : rr\n",
            "First dictionary Dictionary elements : {'a': 'b', 'c': 'rr', 'g': 'rr'}\n",
            "Enter no of elements for second dictionary: 2\n",
            "Enter Key :1\n",
            "Enter Value : 33\n",
            "Enter Key :2\n",
            "Enter Value : 3\n",
            "Second Dictionary elements : {'1': '33', '2': '3'}\n",
            "Mergerd dictionary : {'a': 'b', 'c': 'rr', 'g': 'rr', '1': '33', '2': '3'}\n"
          ]
        }
      ]
    },
    {
      "cell_type": "code",
      "source": [
        "# Write a Python program to count the frequency of each element in a dictionary.\n",
        "a = {}\n",
        "n = int(input('Enter no of elements: '))\n",
        "\n",
        "for i in range(n):\n",
        "  k = input('Enter Key :')\n",
        "  v = input ('Enter Value : ')\n",
        "  a.update({k:v})\n",
        "print('Dictionary elements :', a)\n",
        "\n",
        "fre = {}\n",
        "for value in a.values():  # Count the frequency of each element\n",
        "    if value in fre:\n",
        "        fre[value] += 1\n",
        "    else:\n",
        "        fre[value] = 1\n",
        "\n",
        "for k, v in fre.items(): # Print the frequency of each element\n",
        "    print(f'Frequency {k}: {v}')"
      ],
      "metadata": {
        "colab": {
          "base_uri": "https://localhost:8080/"
        },
        "id": "h7lvdhz7sX-O",
        "outputId": "b5925367-e999-40d2-b935-d913e3fc35ea"
      },
      "execution_count": 35,
      "outputs": [
        {
          "output_type": "stream",
          "name": "stdout",
          "text": [
            "Enter no of elements: 4\n",
            "Enter Key :a\n",
            "Enter Value : hello\n",
            "Enter Key :b\n",
            "Enter Value : hi\n",
            "Enter Key :c\n",
            "Enter Value : hello\n",
            "Enter Key :d\n",
            "Enter Value : by\n",
            "Dictionary elements : {'a': 'hello', 'b': 'hi', 'c': 'hello', 'd': 'by'}\n",
            "Frequency hello: 2\n",
            "Frequency hi: 1\n",
            "Frequency by: 1\n"
          ]
        }
      ]
    },
    {
      "cell_type": "code",
      "source": [
        "# Write a Python program to find the length of a dictionary.\n",
        "a = {}\n",
        "n = int(input('Enter no of elements: '))\n",
        "\n",
        "for i in range(n):\n",
        "  k = input('Enter Key :')\n",
        "  v = input ('Enter Value : ')\n",
        "  a.update({k:v})\n",
        "print('Dictionary elements :', a)\n",
        "\n",
        "length = len(a)\n",
        "print('Length of dictionary is :', length)"
      ],
      "metadata": {
        "colab": {
          "base_uri": "https://localhost:8080/"
        },
        "id": "QtMsGFYNsZSL",
        "outputId": "95893970-aaf0-43fa-e970-12c8f0193fd1"
      },
      "execution_count": 36,
      "outputs": [
        {
          "output_type": "stream",
          "name": "stdout",
          "text": [
            "Enter no of elements: 4\n",
            "Enter Key :India\n",
            "Enter Value : Delhi\n",
            "Enter Key :Pakistan\n",
            "Enter Value : Karachi\n",
            "Enter Key :UK\n",
            "Enter Value : Britan\n",
            "Enter Key :Bangladesh\n",
            "Enter Value : Bhutan\n",
            "Dictionary elements : {'India': 'Delhi', 'Pakistan': 'Karachi', 'UK': 'Britan', 'Bangladesh': 'Bhutan'}\n",
            "Length of dictionary is : 4\n"
          ]
        }
      ]
    },
    {
      "cell_type": "code",
      "source": [
        "# Write a Python program to check if a dictionary is empty.\n",
        "a={}\n",
        "length = len(a)\n",
        "if length == 0 :\n",
        "  print('Dictionary is empty')"
      ],
      "metadata": {
        "colab": {
          "base_uri": "https://localhost:8080/"
        },
        "id": "OEwjKhuNsa_l",
        "outputId": "9c32f7e7-3918-4e8a-cb6f-0e9dac99037d"
      },
      "execution_count": 40,
      "outputs": [
        {
          "output_type": "stream",
          "name": "stdout",
          "text": [
            "Dictionary is empty\n"
          ]
        }
      ]
    },
    {
      "cell_type": "code",
      "source": [
        "# Write a Python program to find the keys with the maximum and minimum values in a dictionary.\n",
        "a = {}\n",
        "n = int(input('Enter no of elements: '))\n",
        "\n",
        "for i in range(n):\n",
        "  k = input('Enter Key :')\n",
        "  v = input ('Enter Value : ')\n",
        "  a.update({k:v})\n",
        "print(a)\n",
        "\n",
        "temp = min(a.values())\n",
        "res = [k for k in a if a[k] == temp]\n",
        "print(\"Keys with minimum values are : \" + str(res))\n",
        "\n",
        "temp1 = max(a.values())\n",
        "res1 = [k for k in a if a[k] == temp1]\n",
        "print(\"Keys with maximum values are : \" + str(res1))"
      ],
      "metadata": {
        "colab": {
          "base_uri": "https://localhost:8080/"
        },
        "id": "ChGpvYeLscqU",
        "outputId": "5fd4f652-683d-44e9-8026-08d075e8d21e"
      },
      "execution_count": 10,
      "outputs": [
        {
          "output_type": "stream",
          "name": "stdout",
          "text": [
            "Enter no of elements: 6\n",
            "Enter Key :a\n",
            "Enter Value : 12\n",
            "Enter Key :b\n",
            "Enter Value : 14\n",
            "Enter Key :c\n",
            "Enter Value : 12\n",
            "Enter Key :d\n",
            "Enter Value : 13\n",
            "Enter Key :e\n",
            "Enter Value : 23\n",
            "Enter Key :f\n",
            "Enter Value : 43\n",
            "{'a': '12', 'b': '14', 'c': '12', 'd': '13', 'e': '23', 'f': '43'}\n",
            "Keys with minimum values are : ['a', 'c']\n",
            "Keys with maximum values are : ['f']\n"
          ]
        }
      ]
    }
  ],
  "metadata": {
    "colab": {
      "provenance": []
    },
    "kernelspec": {
      "display_name": "Python 3",
      "name": "python3"
    },
    "language_info": {
      "name": "python"
    }
  },
  "nbformat": 4,
  "nbformat_minor": 0
}